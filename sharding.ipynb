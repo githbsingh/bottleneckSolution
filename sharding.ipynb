{
  "nbformat": 4,
  "nbformat_minor": 0,
  "metadata": {
    "colab": {
      "provenance": [],
      "authorship_tag": "ABX9TyO/7pJ+bgp4DbWJgMqzG0wK",
      "include_colab_link": true
    },
    "kernelspec": {
      "name": "python3",
      "display_name": "Python 3"
    },
    "language_info": {
      "name": "python"
    }
  },
  "cells": [
    {
      "cell_type": "markdown",
      "metadata": {
        "id": "view-in-github",
        "colab_type": "text"
      },
      "source": [
        "<a href=\"https://colab.research.google.com/github/githbsingh/bottleneckSolution/blob/main/sharding.ipynb\" target=\"_parent\"><img src=\"https://colab.research.google.com/assets/colab-badge.svg\" alt=\"Open In Colab\"/></a>"
      ]
    },
    {
      "cell_type": "code",
      "source": [
        "# SHARDING based on Region\n",
        "import sqlite3\n",
        "\n",
        "# Sample data\n",
        "users = [\n",
        "    (1, 'Alice', 'US'),\n",
        "    (2, 'Bob', 'EU'),\n",
        "    (3, 'Charlie', 'US'),\n",
        "    (4, 'Diana', 'ASIA'),\n",
        "    (5, 'Ethan', 'EU')\n",
        "]\n",
        "\n",
        "\n",
        "\n",
        "\n",
        "# Create a function to insert into the right shard\n",
        "def insert_user(user_id, name, region):\n",
        "    db_name = f\"users_{region.lower()}.db\"\n",
        "    conn = sqlite3.connect(db_name)\n",
        "    cursor = conn.cursor()\n",
        "\n",
        "    # Create table if not exists\n",
        "\n",
        "    cursor.execute('''\n",
        "        CREATE TABLE IF NOT EXISTS Users (\n",
        "            user_id INTEGER,\n",
        "            name TEXT,\n",
        "            region TEXT\n",
        "        )\n",
        "    ''')\n",
        "\n",
        "    # Insert user\n",
        "    cursor.execute('INSERT INTO Users (user_id, name, region) VALUES (?, ?, ?)', (user_id, name, region))\n",
        "    conn.commit()\n",
        "    conn.close()\n",
        "    print(f\"User {name} inserted into {db_name}\")\n",
        "\n",
        "# Insert all users into their respective shards\n",
        "for user in users:\n",
        "    insert_user(*user)\n",
        "\n",
        "insert_user(1, 'Alice', 'US')\n",
        "print(\"Connecting to database in US\")\n",
        "conn = sqlite3.connect('users_us.db')\n",
        "cursor = conn.cursor()\n",
        "cursor.execute('SELECT * FROM Users')\n",
        "print(cursor.fetchall())\n",
        "conn.close()\n",
        "\n",
        "print(\"Connecting to database in EU\")\n",
        "conn = sqlite3.connect('users_eu.db')\n",
        "cursor = conn.cursor()\n",
        "cursor.execute('SELECT * FROM Users')\n",
        "print(cursor.fetchall())\n",
        "conn.close()\n",
        "\n"
      ],
      "metadata": {
        "colab": {
          "base_uri": "https://localhost:8080/"
        },
        "id": "bz3o9kYfhNon",
        "outputId": "a206457c-d8b4-4dd4-98c9-b890e1033ded"
      },
      "execution_count": 10,
      "outputs": [
        {
          "output_type": "stream",
          "name": "stdout",
          "text": [
            "User Alice inserted into users_us.db\n",
            "User Bob inserted into users_eu.db\n",
            "User Charlie inserted into users_us.db\n",
            "User Diana inserted into users_asia.db\n",
            "User Ethan inserted into users_eu.db\n",
            "User Alice inserted into users_us.db\n",
            "Connecting to database in US\n",
            "[(1, 'Alice', 'US'), (1, 'Alice', 'US'), (3, 'Charlie', 'US'), (1, 'Alice', 'US')]\n",
            "Connecting to database in EU\n",
            "[(5, 'Ethan', 'EU'), (2, 'Bob', 'EU'), (5, 'Ethan', 'EU')]\n"
          ]
        }
      ]
    },
    {
      "cell_type": "code",
      "source": [],
      "metadata": {
        "id": "LPtpPhHhoorI"
      },
      "execution_count": null,
      "outputs": []
    }
  ]
}