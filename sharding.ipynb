{
  "nbformat": 4,
  "nbformat_minor": 0,
  "metadata": {
    "colab": {
      "provenance": [],
      "authorship_tag": "ABX9TyPHeJFZUAnO1CQg8F8Gg/8N",
      "include_colab_link": true
    },
    "kernelspec": {
      "name": "python3",
      "display_name": "Python 3"
    },
    "language_info": {
      "name": "python"
    }
  },
  "cells": [
    {
      "cell_type": "markdown",
      "metadata": {
        "id": "view-in-github",
        "colab_type": "text"
      },
      "source": [
        "<a href=\"https://colab.research.google.com/github/githbsingh/bottleneckSolution/blob/main/sharding.ipynb\" target=\"_parent\"><img src=\"https://colab.research.google.com/assets/colab-badge.svg\" alt=\"Open In Colab\"/></a>"
      ]
    },
    {
      "cell_type": "code",
      "source": [
        "# SHARDING based on Region\n",
        "import sqlite3\n",
        "\n",
        "# Sample data\n",
        "users = [\n",
        "    (1, 'Alice', 'US'),\n",
        "    (2, 'Bob', 'EU'),\n",
        "    (3, 'Charlie', 'US'),\n",
        "    (4, 'Diana', 'ASIA'),\n",
        "    (5, 'Ethan', 'EU')\n",
        "]\n",
        "\n",
        "# Dropping Tables to avoid redundancy from each regional databases\n",
        "conn = sqlite3.connect(\"users_asia.db\")\n",
        "cursor = conn.cursor()\n",
        "cursor.execute('''\n",
        "    DROP TABLE Users''')\n",
        "\n",
        "# Dropping Tables to avoid redundancy from each regional databases\n",
        "conn = sqlite3.connect(\"users_us.db\")\n",
        "cursor = conn.cursor()\n",
        "cursor.execute('''\n",
        "    DROP TABLE Users''')\n",
        "\n",
        "# Dropping Tables to avoid redundancy from each regional databases\n",
        "conn = sqlite3.connect(\"users_eu.db\")\n",
        "cursor = conn.cursor()\n",
        "cursor.execute('''\n",
        "    DROP TABLE Users''')\n",
        "\n",
        "\n",
        "# Create a function to insert into the right shard\n",
        "def insert_user(user_id, name, region):\n",
        "    db_name = f\"users_{region.lower()}.db\"\n",
        "    #print(db_name)\n",
        "    conn = sqlite3.connect(db_name)\n",
        "    cursor = conn.cursor()\n",
        "\n",
        "    # Create table if not exists\n",
        "\n",
        "    cursor.execute('''\n",
        "        CREATE TABLE IF NOT EXISTS Users (\n",
        "            user_id INTEGER,\n",
        "            name TEXT,\n",
        "            region TEXT\n",
        "        )\n",
        "    ''')\n",
        "\n",
        "    # Insert user\n",
        "    cursor.execute('INSERT INTO Users (user_id, name, region) VALUES (?, ?, ?)', (user_id, name, region))\n",
        "    conn.commit()\n",
        "    conn.close()\n",
        "    print(f\"User {name} inserted into {db_name}\")\n",
        "\n",
        "# Insert all users into their respective shards\n",
        "for user in users:\n",
        "    insert_user(*user)\n",
        "\n",
        "print(\"Connecting to database in US\")\n",
        "conn = sqlite3.connect('users_us.db')\n",
        "cursor = conn.cursor()\n",
        "cursor.execute('SELECT * FROM Users')\n",
        "print(cursor.fetchall())\n",
        "conn.close()\n",
        "\n",
        "print(\"Connecting to database in EU\")\n",
        "conn = sqlite3.connect('users_eu.db')\n",
        "cursor = conn.cursor()\n",
        "cursor.execute('SELECT * FROM Users')\n",
        "print(cursor.fetchall())\n",
        "conn.close()\n",
        "\n"
      ],
      "metadata": {
        "colab": {
          "base_uri": "https://localhost:8080/"
        },
        "id": "bz3o9kYfhNon",
        "outputId": "6ce8a9fd-ca4d-47d7-940b-b886cd10ddba"
      },
      "execution_count": 16,
      "outputs": [
        {
          "output_type": "stream",
          "name": "stdout",
          "text": [
            "User Alice inserted into users_us.db\n",
            "User Bob inserted into users_eu.db\n",
            "User Charlie inserted into users_us.db\n",
            "User Diana inserted into users_asia.db\n",
            "User Ethan inserted into users_eu.db\n",
            "Connecting to database in US\n",
            "[(1, 'Alice', 'US'), (3, 'Charlie', 'US')]\n",
            "Connecting to database in EU\n",
            "[(2, 'Bob', 'EU'), (5, 'Ethan', 'EU')]\n"
          ]
        }
      ]
    },
    {
      "cell_type": "code",
      "source": [],
      "metadata": {
        "id": "LPtpPhHhoorI"
      },
      "execution_count": null,
      "outputs": []
    }
  ]
}